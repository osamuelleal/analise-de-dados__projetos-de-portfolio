{
  "nbformat": 4,
  "nbformat_minor": 0,
  "metadata": {
    "colab": {
      "name": "dataset_exemplo",
      "provenance": []
    },
    "kernelspec": {
      "name": "python3",
      "display_name": "Python 3"
    }
  },
  "cells": [
    {
      "cell_type": "markdown",
      "metadata": {
        "id": "WZfONiD7tXoV"
      },
      "source": [
        "# **Pequena análise no dataset de exemplo gerado no Mockaroo**"
      ]
    },
    {
      "cell_type": "code",
      "metadata": {
        "id": "P7r-dkcBZm8p"
      },
      "source": [
        "# Importando a biblioteca pandas e lendo o arquivo csv\r\n",
        "\r\n",
        "import pandas as pd\r\n",
        "\r\n",
        "dataset = pd.read_csv('/content/DATASET_EXEMPLO.csv')\r\n",
        "dataset.head()"
      ],
      "execution_count": null,
      "outputs": []
    },
    {
      "cell_type": "code",
      "metadata": {
        "id": "wjQ_V4kya_Gl"
      },
      "source": [
        "# Importando a biblioteca matplotlib para configurar o estilo do seaborn como padrão\r\n",
        "\r\n",
        "import matplotlib.pyplot as plt\r\n",
        "plt.style.use('seaborn')"
      ],
      "execution_count": null,
      "outputs": []
    },
    {
      "cell_type": "code",
      "metadata": {
        "id": "gKHw0FPnZxOR"
      },
      "source": [
        "dataset.describe()"
      ],
      "execution_count": null,
      "outputs": []
    },
    {
      "cell_type": "code",
      "metadata": {
        "id": "_GS3hgHHaTpn"
      },
      "source": [
        "dataset.info()"
      ],
      "execution_count": null,
      "outputs": []
    },
    {
      "cell_type": "code",
      "metadata": {
        "id": "bPrHPmmhcXdt"
      },
      "source": [
        "#Transformando a coluna \"data\" em padrão \"Datetime\" do pandas\r\n",
        "\r\n",
        "data_formatada = pd.to_datetime(dataset['data'])\r\n",
        "dataset['data_formatada'] = data_formatada\r\n",
        "dataset.head()"
      ],
      "execution_count": null,
      "outputs": []
    },
    {
      "cell_type": "code",
      "metadata": {
        "id": "Xuz1kiO3aXOW"
      },
      "source": [
        "# Plotando histograma\r\n",
        "\r\n",
        "%matplotlib inline\r\n",
        "dataset['valor'].plot(kind='hist', figsize=(10,5));"
      ],
      "execution_count": null,
      "outputs": []
    },
    {
      "cell_type": "code",
      "metadata": {
        "id": "idKoVgX0ankF"
      },
      "source": [
        "# Plotando gráfico de linhas\r\n",
        "\r\n",
        "dataset.plot(x='data_formatada', y='valor', kind='line', figsize=(20,10));"
      ],
      "execution_count": null,
      "outputs": []
    },
    {
      "cell_type": "code",
      "metadata": {
        "collapsed": true,
        "id": "JvfER5Uug_2Q"
      },
      "source": [
        "# Plotando gráfico de barras horizontal agrupado pela coluna \"produtos\"\n",
        "\n",
        "dataset.groupby(['produto']).produto.count().sort_values()[-5:].plot(kind='barh', figsize=(15,5));"
      ],
      "execution_count": null,
      "outputs": []
    }
  ]
}